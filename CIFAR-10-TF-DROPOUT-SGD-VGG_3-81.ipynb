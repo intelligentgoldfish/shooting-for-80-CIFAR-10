{
  "nbformat": 4,
  "nbformat_minor": 0,
  "metadata": {
    "colab": {
      "name": "CIFAR-10 VGG3.ipynb",
      "provenance": []
    },
    "kernelspec": {
      "name": "python3",
      "display_name": "Python 3"
    },
    "accelerator": "GPU"
  },
  "cells": [
    {
      "cell_type": "code",
      "metadata": {
        "id": "l8Wn3SOvX_J_",
        "colab_type": "code",
        "colab": {}
      },
      "source": [
        "#module import\n",
        "#modules have been given their own cell to avoid having to re-define network or\n",
        "#perform other operations after terminating runtime sessions\n",
        "\n",
        "\n",
        "#tensorflow 2.0 modules\n",
        "import tensorflow as tf\n",
        "from tensorflow import keras\n",
        "from tensorflow.keras import datasets, layers, models, regularizers\n",
        "from tensorflow.keras.preprocessing.image import ImageDataGenerator\n",
        "from tensorflow.keras.utils import to_categorical\n",
        "\n",
        "#helper modules\n",
        "import matplotlib.pyplot as plt\n",
        "\n",
        "#dataset module\n",
        "import tensorflow_datasets as tfds\n",
        "tfds.disable_progress_bar()"
      ],
      "execution_count": 0,
      "outputs": []
    },
    {
      "cell_type": "code",
      "metadata": {
        "id": "k4V7zGO9O5ZP",
        "colab_type": "code",
        "outputId": "bc5a3fd9-1b3b-4659-da58-c483ee44cc7f",
        "colab": {
          "base_uri": "https://localhost:8080/",
          "height": 51
        }
      },
      "source": [
        "#data loaderrrrrrrrrrrrrrr\n",
        "\n",
        "(imtrain, labtrain), (imtest, labtest) = datasets.cifar10.load_data()\n",
        "#convert labels for cross-entropy\n",
        "labtrain = to_categorical(labtrain)\n",
        "labtest = to_categorical(labtest)\n",
        "#normalize pixel values\n",
        "imtrain, imtest = imtrain / 255.0, imtest / 255.0\n",
        "\n",
        "#data augmentation :)\n",
        "#datagen = ImageDataGenerator(rotation_range=5, width_shift_range=0.15, height_shift_range=0.15, horizontal_flip=True, fill_mode='nearest')\n",
        "\n",
        "#run data augmentor\n",
        "#train_sequence = datagen.flow(imtrain, labtrain, batch_size=64)\n",
        "\n",
        "#labels do not inherently map to names, so we pre-define them to match a label vector\n",
        "#doesn't inherently affect training, only for if we humans want to visualize\n",
        "class_names = ['airplane', 'automobile', 'bird', 'cat', 'deer',\n",
        "               'dog', 'frog', 'horse', 'ship', 'truck']\n",
        "\n",
        "#check to see if GPU is available\n",
        "#print(tf.config.list_physical_devices('GPU'))"
      ],
      "execution_count": 0,
      "outputs": [
        {
          "output_type": "stream",
          "text": [
            "Downloading data from https://www.cs.toronto.edu/~kriz/cifar-10-python.tar.gz\n",
            "170500096/170498071 [==============================] - 6s 0us/step\n"
          ],
          "name": "stdout"
        }
      ]
    },
    {
      "cell_type": "code",
      "metadata": {
        "id": "tSc9qgF4Ic6J",
        "colab_type": "code",
        "colab": {}
      },
      "source": [
        "#create VGG model\n",
        "\n",
        "model = models.Sequential()\n",
        "\n",
        "model.add(layers.Conv2D(32, (3, 3), activation='relu', kernel_initializer='he_uniform', padding='same', input_shape=(32, 32, 3)))\n",
        "model.add(layers.Conv2D(32, (3, 3), activation='relu', kernel_initializer='he_uniform', padding='same'))\n",
        "model.add(layers.MaxPool2D((2, 2), strides=2))\n",
        "model.add(layers.Dropout(0.2))\n",
        "model.add(layers.Conv2D(64, (3, 3), activation='relu', kernel_initializer='he_uniform', padding='same'))\n",
        "model.add(layers.Conv2D(64, (3, 3), activation='relu', kernel_initializer='he_uniform', padding='same'))\n",
        "model.add(layers.MaxPool2D((2, 2), strides=2))\n",
        "model.add(layers.Dropout(0.2))\n",
        "model.add(layers.Conv2D(128, (3, 3), activation='relu', kernel_initializer='he_uniform', padding='same'))\n",
        "model.add(layers.Conv2D(128, (3, 3), activation='relu', kernel_initializer='he_uniform', padding='same'))\n",
        "model.add(layers.MaxPool2D((2, 2), strides=2))\n",
        "model.add(layers.Dropout(0.2))\n",
        "model.add(layers.Flatten())\n",
        "model.add(layers.Dense(128, activation='relu', kernel_initializer='he_uniform'))\n",
        "model.add(layers.Dense(10, activation='softmax'))\n",
        "\n",
        "model.summary()"
      ],
      "execution_count": 0,
      "outputs": []
    },
    {
      "cell_type": "code",
      "metadata": {
        "id": "xZ8TTPbdVAdA",
        "colab_type": "code",
        "outputId": "e6e24a50-045f-45f9-f7e6-4e474811e460",
        "colab": {
          "base_uri": "https://localhost:8080/",
          "height": 1000
        }
      },
      "source": [
        "#training loop!\n",
        "\n",
        "#define a certain number of steps so we use all of our data\n",
        "#steps = int(imtrain.shape[0] / 64) steps_per_epoch=steps, \n",
        "\n",
        "#compile\n",
        "model.compile(optimizer='sgd', loss=tf.keras.losses.CategoricalCrossentropy(), metrics=['accuracy'])\n",
        "\n",
        "#train\n",
        "history = model.fit(imtrain, labtrain, epochs=50, validation_data=(imtest, labtest))"
      ],
      "execution_count": 12,
      "outputs": [
        {
          "output_type": "stream",
          "text": [
            "Epoch 1/50\n",
            "1563/1563 [==============================] - 8s 5ms/step - loss: 1.8380 - accuracy: 0.3263 - val_loss: 1.5887 - val_accuracy: 0.4134\n",
            "Epoch 2/50\n",
            "1563/1563 [==============================] - 8s 5ms/step - loss: 1.4955 - accuracy: 0.4578 - val_loss: 1.4310 - val_accuracy: 0.4771\n",
            "Epoch 3/50\n",
            "1563/1563 [==============================] - 8s 5ms/step - loss: 1.3310 - accuracy: 0.5206 - val_loss: 1.2131 - val_accuracy: 0.5635\n",
            "Epoch 4/50\n",
            "1563/1563 [==============================] - 8s 5ms/step - loss: 1.2057 - accuracy: 0.5683 - val_loss: 1.1628 - val_accuracy: 0.5828\n",
            "Epoch 5/50\n",
            "1563/1563 [==============================] - 8s 5ms/step - loss: 1.0963 - accuracy: 0.6092 - val_loss: 1.0350 - val_accuracy: 0.6332\n",
            "Epoch 6/50\n",
            "1563/1563 [==============================] - 8s 5ms/step - loss: 1.0025 - accuracy: 0.6464 - val_loss: 1.1011 - val_accuracy: 0.6178\n",
            "Epoch 7/50\n",
            "1563/1563 [==============================] - 8s 5ms/step - loss: 0.9316 - accuracy: 0.6719 - val_loss: 0.9124 - val_accuracy: 0.6759\n",
            "Epoch 8/50\n",
            "1563/1563 [==============================] - 8s 5ms/step - loss: 0.8749 - accuracy: 0.6907 - val_loss: 0.8589 - val_accuracy: 0.7005\n",
            "Epoch 9/50\n",
            "1563/1563 [==============================] - 8s 5ms/step - loss: 0.8257 - accuracy: 0.7104 - val_loss: 0.8376 - val_accuracy: 0.7061\n",
            "Epoch 10/50\n",
            "1563/1563 [==============================] - 8s 5ms/step - loss: 0.7874 - accuracy: 0.7236 - val_loss: 0.8467 - val_accuracy: 0.7072\n",
            "Epoch 11/50\n",
            "1563/1563 [==============================] - 8s 5ms/step - loss: 0.7468 - accuracy: 0.7367 - val_loss: 0.7519 - val_accuracy: 0.7416\n",
            "Epoch 12/50\n",
            "1563/1563 [==============================] - 8s 5ms/step - loss: 0.7180 - accuracy: 0.7471 - val_loss: 0.7337 - val_accuracy: 0.7458\n",
            "Epoch 13/50\n",
            "1563/1563 [==============================] - 8s 5ms/step - loss: 0.6861 - accuracy: 0.7582 - val_loss: 0.6982 - val_accuracy: 0.7581\n",
            "Epoch 14/50\n",
            "1563/1563 [==============================] - 8s 5ms/step - loss: 0.6628 - accuracy: 0.7671 - val_loss: 0.7244 - val_accuracy: 0.7579\n",
            "Epoch 15/50\n",
            "1563/1563 [==============================] - 8s 5ms/step - loss: 0.6346 - accuracy: 0.7801 - val_loss: 0.6599 - val_accuracy: 0.7780\n",
            "Epoch 16/50\n",
            "1563/1563 [==============================] - 8s 5ms/step - loss: 0.6131 - accuracy: 0.7831 - val_loss: 0.7206 - val_accuracy: 0.7555\n",
            "Epoch 17/50\n",
            "1563/1563 [==============================] - 8s 5ms/step - loss: 0.5906 - accuracy: 0.7934 - val_loss: 0.6545 - val_accuracy: 0.7770\n",
            "Epoch 18/50\n",
            "1563/1563 [==============================] - 8s 5ms/step - loss: 0.5685 - accuracy: 0.7986 - val_loss: 0.6333 - val_accuracy: 0.7811\n",
            "Epoch 19/50\n",
            "1563/1563 [==============================] - 8s 5ms/step - loss: 0.5511 - accuracy: 0.8060 - val_loss: 0.7193 - val_accuracy: 0.7582\n",
            "Epoch 20/50\n",
            "1563/1563 [==============================] - 8s 5ms/step - loss: 0.5309 - accuracy: 0.8136 - val_loss: 0.6157 - val_accuracy: 0.7902\n",
            "Epoch 21/50\n",
            "1563/1563 [==============================] - 8s 5ms/step - loss: 0.5127 - accuracy: 0.8175 - val_loss: 0.6162 - val_accuracy: 0.7956\n",
            "Epoch 22/50\n",
            "1563/1563 [==============================] - 8s 5ms/step - loss: 0.4943 - accuracy: 0.8239 - val_loss: 0.6158 - val_accuracy: 0.7958\n",
            "Epoch 23/50\n",
            "1563/1563 [==============================] - 8s 5ms/step - loss: 0.4753 - accuracy: 0.8318 - val_loss: 0.6245 - val_accuracy: 0.7959\n",
            "Epoch 24/50\n",
            "1563/1563 [==============================] - 8s 5ms/step - loss: 0.4664 - accuracy: 0.8362 - val_loss: 0.6326 - val_accuracy: 0.7921\n",
            "Epoch 25/50\n",
            "1563/1563 [==============================] - 8s 5ms/step - loss: 0.4497 - accuracy: 0.8401 - val_loss: 0.6135 - val_accuracy: 0.7962\n",
            "Epoch 26/50\n",
            "1563/1563 [==============================] - 8s 5ms/step - loss: 0.4324 - accuracy: 0.8469 - val_loss: 0.5946 - val_accuracy: 0.8044\n",
            "Epoch 27/50\n",
            "1563/1563 [==============================] - 8s 5ms/step - loss: 0.4199 - accuracy: 0.8503 - val_loss: 0.6336 - val_accuracy: 0.7931\n",
            "Epoch 28/50\n",
            "1563/1563 [==============================] - 8s 5ms/step - loss: 0.4063 - accuracy: 0.8548 - val_loss: 0.5873 - val_accuracy: 0.8067\n",
            "Epoch 29/50\n",
            "1563/1563 [==============================] - 8s 5ms/step - loss: 0.3919 - accuracy: 0.8614 - val_loss: 0.5956 - val_accuracy: 0.8086\n",
            "Epoch 30/50\n",
            "1563/1563 [==============================] - 8s 5ms/step - loss: 0.3800 - accuracy: 0.8657 - val_loss: 0.5984 - val_accuracy: 0.8075\n",
            "Epoch 31/50\n",
            "1563/1563 [==============================] - 8s 5ms/step - loss: 0.3640 - accuracy: 0.8696 - val_loss: 0.6414 - val_accuracy: 0.7934\n",
            "Epoch 32/50\n",
            "1563/1563 [==============================] - 8s 5ms/step - loss: 0.3555 - accuracy: 0.8729 - val_loss: 0.5853 - val_accuracy: 0.8144\n",
            "Epoch 33/50\n",
            "1563/1563 [==============================] - 8s 5ms/step - loss: 0.3439 - accuracy: 0.8766 - val_loss: 0.6003 - val_accuracy: 0.8127\n",
            "Epoch 34/50\n",
            "1563/1563 [==============================] - 8s 5ms/step - loss: 0.3374 - accuracy: 0.8795 - val_loss: 0.5826 - val_accuracy: 0.8138\n",
            "Epoch 35/50\n",
            "1563/1563 [==============================] - 8s 5ms/step - loss: 0.3213 - accuracy: 0.8832 - val_loss: 0.5897 - val_accuracy: 0.8199\n",
            "Epoch 36/50\n",
            "1563/1563 [==============================] - 8s 5ms/step - loss: 0.3117 - accuracy: 0.8875 - val_loss: 0.6008 - val_accuracy: 0.8141\n",
            "Epoch 37/50\n",
            "1563/1563 [==============================] - 8s 5ms/step - loss: 0.3002 - accuracy: 0.8911 - val_loss: 0.6118 - val_accuracy: 0.8169\n",
            "Epoch 38/50\n",
            "1563/1563 [==============================] - 8s 5ms/step - loss: 0.2917 - accuracy: 0.8940 - val_loss: 0.6120 - val_accuracy: 0.8101\n",
            "Epoch 39/50\n",
            "1563/1563 [==============================] - 8s 5ms/step - loss: 0.2804 - accuracy: 0.8997 - val_loss: 0.6211 - val_accuracy: 0.8191\n",
            "Epoch 40/50\n",
            "1563/1563 [==============================] - 8s 5ms/step - loss: 0.2771 - accuracy: 0.9007 - val_loss: 0.6372 - val_accuracy: 0.8086\n",
            "Epoch 41/50\n",
            "1563/1563 [==============================] - 8s 5ms/step - loss: 0.2640 - accuracy: 0.9056 - val_loss: 0.6825 - val_accuracy: 0.8110\n",
            "Epoch 42/50\n",
            "1563/1563 [==============================] - 8s 5ms/step - loss: 0.2535 - accuracy: 0.9082 - val_loss: 0.6342 - val_accuracy: 0.8166\n",
            "Epoch 43/50\n",
            "1563/1563 [==============================] - 8s 5ms/step - loss: 0.2484 - accuracy: 0.9115 - val_loss: 0.6238 - val_accuracy: 0.8167\n",
            "Epoch 44/50\n",
            "1563/1563 [==============================] - 8s 5ms/step - loss: 0.2443 - accuracy: 0.9113 - val_loss: 0.7236 - val_accuracy: 0.8036\n",
            "Epoch 45/50\n",
            "1563/1563 [==============================] - 8s 5ms/step - loss: 0.2297 - accuracy: 0.9176 - val_loss: 0.6433 - val_accuracy: 0.8187\n",
            "Epoch 46/50\n",
            "1563/1563 [==============================] - 8s 5ms/step - loss: 0.2254 - accuracy: 0.9180 - val_loss: 0.6667 - val_accuracy: 0.8138\n",
            "Epoch 47/50\n",
            "1563/1563 [==============================] - 8s 5ms/step - loss: 0.2179 - accuracy: 0.9199 - val_loss: 0.6601 - val_accuracy: 0.8097\n",
            "Epoch 48/50\n",
            "1563/1563 [==============================] - 8s 5ms/step - loss: 0.2113 - accuracy: 0.9238 - val_loss: 0.7644 - val_accuracy: 0.7914\n",
            "Epoch 49/50\n",
            "1563/1563 [==============================] - 8s 5ms/step - loss: 0.2040 - accuracy: 0.9261 - val_loss: 0.6928 - val_accuracy: 0.8144\n",
            "Epoch 50/50\n",
            "1563/1563 [==============================] - 8s 5ms/step - loss: 0.1975 - accuracy: 0.9279 - val_loss: 0.6807 - val_accuracy: 0.8176\n"
          ],
          "name": "stdout"
        }
      ]
    },
    {
      "cell_type": "code",
      "metadata": {
        "id": "iNWyKxHhWoFy",
        "colab_type": "code",
        "outputId": "59a862a2-545b-461c-c59d-17826a738069",
        "colab": {
          "base_uri": "https://localhost:8080/",
          "height": 300
        }
      },
      "source": [
        "#performance evaluation cell\n",
        "\n",
        "plt.plot(history.history['accuracy'], label='accuracy')\n",
        "plt.plot(history.history['val_accuracy'], label = 'val_accuracy')\n",
        "plt.xlabel('Epoch')\n",
        "plt.ylabel('Accuracy')\n",
        "plt.ylim([0.5, 1])\n",
        "plt.legend(loc='lower right')\n",
        "\n",
        "test_loss, test_acc = model.evaluate(imtest,  labtest, verbose=2)"
      ],
      "execution_count": 13,
      "outputs": [
        {
          "output_type": "stream",
          "text": [
            "313/313 - 1s - loss: 0.6807 - accuracy: 0.8176\n"
          ],
          "name": "stdout"
        },
        {
          "output_type": "display_data",
          "data": {
            "image/png": "[encoded data removed]",
            "text/plain": [
              "<Figure size 432x288 with 1 Axes>"
            ]
          },
          "metadata": {
            "tags": [],
            "needs_background": "light"
          }
        }
      ]
    }
  ]
}