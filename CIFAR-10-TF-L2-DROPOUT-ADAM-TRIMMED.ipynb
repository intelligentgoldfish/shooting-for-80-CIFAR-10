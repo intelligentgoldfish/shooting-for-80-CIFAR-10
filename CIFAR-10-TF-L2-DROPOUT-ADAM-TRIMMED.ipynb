{
  "nbformat": 4,
  "nbformat_minor": 0,
  "metadata": {
    "colab": {
      "name": "CIFAR-10 Tensorflow Network.ipynb",
      "provenance": [],
      "collapsed_sections": []
    },
    "kernelspec": {
      "name": "python3",
      "display_name": "Python 3"
    },
    "accelerator": "GPU"
  },
  "cells": [
    {
      "cell_type": "code",
      "metadata": {
        "id": "I7oN-Tohpez6",
        "colab_type": "code",
        "colab": {}
      },
      "source": [
        "#module import\n",
        "#modules have been given their own cell to avoid having to re-define network or\n",
        "#perform other operations after terminating runtime sessions\n",
        "\n",
        "\n",
        "#tensorflow 2.0 modules\n",
        "import tensorflow as tf\n",
        "from tensorflow import keras\n",
        "from tensorflow.keras import datasets, layers, models, regularizers\n",
        "\n",
        "#helper modules\n",
        "import numpy as np\n",
        "import matplotlib.pyplot as plt\n",
        "\n",
        "#dataset module\n",
        "import tensorflow_datasets as tfds\n",
        "tfds.disable_progress_bar()"
      ],
      "execution_count": 0,
      "outputs": []
    },
    {
      "cell_type": "code",
      "metadata": {
        "id": "Xpt-hWP31q1T",
        "colab_type": "code",
        "colab": {}
      },
      "source": [
        "#alternate tensorflow data loader and pipeline\n",
        "\n",
        "\n",
        "ds_train = tfds.load(name='cifar10', split='train')\n",
        "ds_test = tfds.load(name='cifar10', split='test')\n",
        "\n",
        "#extend dataset, shuffle, and split into batches\n",
        "ds_train = ds_train.repeat().shuffle(1024).batch(32)"
      ],
      "execution_count": 0,
      "outputs": []
    },
    {
      "cell_type": "code",
      "metadata": {
        "id": "N0GQdq_T1nGM",
        "colab_type": "code",
        "colab": {}
      },
      "source": [
        "#data augmentation and shuffling\n",
        "\n",
        "\n",
        "ds_train_flip = tf.image.flip_left_right(ds_train)\n",
        "ds_train = [ds_train, ds_train_flip]\n",
        "\n",
        "#extend dataset, shuffle, and split into batches\n",
        "ds_train = ds_train.repeat().shuffle(1024).batch(32)"
      ],
      "execution_count": 0,
      "outputs": []
    },
    {
      "cell_type": "code",
      "metadata": {
        "id": "bTdOXDHXxW9K",
        "colab_type": "code",
        "outputId": "81379d0c-e902-4df3-8ccf-7f05cf6f2def",
        "colab": {
          "base_uri": "https://localhost:8080/",
          "height": 68
        }
      },
      "source": [
        "#data loader and normalizer\n",
        "\n",
        "\n",
        "#cifar = tf.keras.datasets.cifar10\n",
        "\n",
        "(imtrain, labtrain), (imtest, labtest) = datasets.cifar10.load_data()\n",
        "#normalize pixel values\n",
        "imtrain, imtest = imtrain / 255.0, imtest / 255.0\n",
        "\n",
        "#imtrain_flip = tf.image.flip_left_right(imtrain)\n",
        "#imtrain = [imtrain, imtrain_flip]\n",
        "\n",
        "#labels do not inherently map to names, so we pre-define them to match a label vector\n",
        "class_names = ['airplane', 'automobile', 'bird', 'cat', 'deer',\n",
        "               'dog', 'frog', 'horse', 'ship', 'truck']\n",
        "\n",
        "#check to see if GPU is available\n",
        "print(tf.config.list_physical_devices('GPU'))"
      ],
      "execution_count": 2,
      "outputs": [
        {
          "output_type": "stream",
          "text": [
            "Downloading data from https://www.cs.toronto.edu/~kriz/cifar-10-python.tar.gz\n",
            "170500096/170498071 [==============================] - 2s 0us/step\n",
            "[PhysicalDevice(name='/physical_device:GPU:0', device_type='GPU')]\n"
          ],
          "name": "stdout"
        }
      ]
    },
    {
      "cell_type": "code",
      "metadata": {
        "id": "fhpmOwZbx5f9",
        "colab_type": "code",
        "outputId": "c9ed02c8-7d93-4b66-e60a-2c0931ab1c68",
        "colab": {
          "base_uri": "https://localhost:8080/",
          "height": 527
        }
      },
      "source": [
        "#network definition\n",
        "\n",
        "\n",
        "model = models.Sequential()\n",
        "model.add(layers.Conv2D(32, (3, 3), activation='relu', input_shape=(32, 32, 3)))\n",
        "model.add(layers.MaxPool2D((2, 2)))\n",
        "model.add(layers.Dropout(0.4))\n",
        "model.add(layers.Conv2D(48, (3, 3), activation='relu', kernel_regularizer=regularizers.l2(0.01)))\n",
        "model.add(layers.MaxPool2D((2, 2)))\n",
        "model.add(layers.Dropout(0.2))\n",
        "model.add(layers.Conv2D(48, (3, 3), activation='relu', kernel_regularizer=regularizers.l2(0.01)))\n",
        "model.add(layers.Flatten())\n",
        "model.add(layers.Dense(512, activation='relu'))\n",
        "model.add(layers.Dense(120, activation='relu'))\n",
        "model.add(layers.Dense(10))\n",
        "\n",
        "model.summary()"
      ],
      "execution_count": 24,
      "outputs": [
        {
          "output_type": "stream",
          "text": [
            "Model: \"sequential_11\"\n",
            "_________________________________________________________________\n",
            "Layer (type)                 Output Shape              Param #   \n",
            "=================================================================\n",
            "conv2d_20 (Conv2D)           (None, 30, 30, 32)        896       \n",
            "_________________________________________________________________\n",
            "max_pooling2d_13 (MaxPooling (None, 15, 15, 32)        0         \n",
            "_________________________________________________________________\n",
            "dropout_13 (Dropout)         (None, 15, 15, 32)        0         \n",
            "_________________________________________________________________\n",
            "conv2d_21 (Conv2D)           (None, 13, 13, 48)        13872     \n",
            "_________________________________________________________________\n",
            "max_pooling2d_14 (MaxPooling (None, 6, 6, 48)          0         \n",
            "_________________________________________________________________\n",
            "dropout_14 (Dropout)         (None, 6, 6, 48)          0         \n",
            "_________________________________________________________________\n",
            "conv2d_22 (Conv2D)           (None, 4, 4, 48)          20784     \n",
            "_________________________________________________________________\n",
            "flatten_4 (Flatten)          (None, 768)               0         \n",
            "_________________________________________________________________\n",
            "dense_12 (Dense)             (None, 512)               393728    \n",
            "_________________________________________________________________\n",
            "dense_13 (Dense)             (None, 120)               61560     \n",
            "_________________________________________________________________\n",
            "dense_14 (Dense)             (None, 10)                1210      \n",
            "=================================================================\n",
            "Total params: 492,050\n",
            "Trainable params: 492,050\n",
            "Non-trainable params: 0\n",
            "_________________________________________________________________\n"
          ],
          "name": "stdout"
        }
      ]
    },
    {
      "cell_type": "code",
      "metadata": {
        "id": "e7B_is3Ea2r-",
        "colab_type": "code",
        "outputId": "1946595c-6536-4864-f353-d4ca8e22e40b",
        "colab": {
          "base_uri": "https://localhost:8080/",
          "height": 697
        }
      },
      "source": [
        "#compile and train model\n",
        "\n",
        "model.compile(optimizer='adam', loss=tf.keras.losses.SparseCategoricalCrossentropy(from_logits=True), metrics=['accuracy'])\n",
        "\n",
        "history = model.fit(imtrain, labtrain, epochs=20, validation_data=(imtest, labtest))"
      ],
      "execution_count": 27,
      "outputs": [
        {
          "output_type": "stream",
          "text": [
            "Epoch 1/20\n",
            "1563/1563 [==============================] - 7s 4ms/step - loss: 1.0564 - accuracy: 0.6878 - val_loss: 1.0253 - val_accuracy: 0.7013\n",
            "Epoch 2/20\n",
            "1563/1563 [==============================] - 7s 4ms/step - loss: 1.0373 - accuracy: 0.6952 - val_loss: 1.0143 - val_accuracy: 0.7018\n",
            "Epoch 3/20\n",
            "1563/1563 [==============================] - 7s 4ms/step - loss: 1.0217 - accuracy: 0.6990 - val_loss: 1.0165 - val_accuracy: 0.7037\n",
            "Epoch 4/20\n",
            "1563/1563 [==============================] - 7s 4ms/step - loss: 0.9953 - accuracy: 0.7077 - val_loss: 1.1240 - val_accuracy: 0.6906\n",
            "Epoch 5/20\n",
            "1563/1563 [==============================] - 7s 4ms/step - loss: 0.9738 - accuracy: 0.7138 - val_loss: 1.0041 - val_accuracy: 0.7131\n",
            "Epoch 6/20\n",
            "1563/1563 [==============================] - 7s 4ms/step - loss: 0.9665 - accuracy: 0.7201 - val_loss: 0.9450 - val_accuracy: 0.7236\n",
            "Epoch 7/20\n",
            "1563/1563 [==============================] - 7s 4ms/step - loss: 0.9938 - accuracy: 0.7092 - val_loss: 0.9741 - val_accuracy: 0.7181\n",
            "Epoch 8/20\n",
            "1563/1563 [==============================] - 7s 4ms/step - loss: 0.9463 - accuracy: 0.7233 - val_loss: 0.9676 - val_accuracy: 0.7266\n",
            "Epoch 9/20\n",
            "1563/1563 [==============================] - 7s 4ms/step - loss: 0.9567 - accuracy: 0.7210 - val_loss: 1.0376 - val_accuracy: 0.7046\n",
            "Epoch 10/20\n",
            "1563/1563 [==============================] - 7s 4ms/step - loss: 0.9236 - accuracy: 0.7324 - val_loss: 1.0053 - val_accuracy: 0.7177\n",
            "Epoch 11/20\n",
            "1563/1563 [==============================] - 7s 4ms/step - loss: 0.9296 - accuracy: 0.7304 - val_loss: 0.9614 - val_accuracy: 0.7267\n",
            "Epoch 12/20\n",
            "1563/1563 [==============================] - 7s 4ms/step - loss: 0.9242 - accuracy: 0.7302 - val_loss: 0.9872 - val_accuracy: 0.7183\n",
            "Epoch 13/20\n",
            "1563/1563 [==============================] - 7s 4ms/step - loss: 0.9171 - accuracy: 0.7330 - val_loss: 1.0129 - val_accuracy: 0.7057\n",
            "Epoch 14/20\n",
            "1563/1563 [==============================] - 7s 4ms/step - loss: 0.9065 - accuracy: 0.7372 - val_loss: 1.0026 - val_accuracy: 0.7107\n",
            "Epoch 15/20\n",
            "1563/1563 [==============================] - 7s 4ms/step - loss: 0.8909 - accuracy: 0.7414 - val_loss: 1.0988 - val_accuracy: 0.6870\n",
            "Epoch 16/20\n",
            "1563/1563 [==============================] - 7s 4ms/step - loss: 0.9115 - accuracy: 0.7378 - val_loss: 1.1184 - val_accuracy: 0.6828\n",
            "Epoch 17/20\n",
            "1563/1563 [==============================] - 7s 4ms/step - loss: 0.8890 - accuracy: 0.7434 - val_loss: 0.9540 - val_accuracy: 0.7268\n",
            "Epoch 18/20\n",
            "1563/1563 [==============================] - 7s 4ms/step - loss: 0.8758 - accuracy: 0.7477 - val_loss: 0.9616 - val_accuracy: 0.7241\n",
            "Epoch 19/20\n",
            "1563/1563 [==============================] - 7s 4ms/step - loss: 0.8781 - accuracy: 0.7480 - val_loss: 1.0303 - val_accuracy: 0.7063\n",
            "Epoch 20/20\n",
            "1563/1563 [==============================] - 7s 4ms/step - loss: 0.8637 - accuracy: 0.7505 - val_loss: 1.0175 - val_accuracy: 0.7100\n"
          ],
          "name": "stdout"
        }
      ]
    },
    {
      "cell_type": "code",
      "metadata": {
        "id": "Gl3usQKRcKvp",
        "colab_type": "code",
        "outputId": "cd2202fb-4619-42df-e86b-38a58a76ff4a",
        "colab": {
          "base_uri": "https://localhost:8080/",
          "height": 300
        }
      },
      "source": [
        "#performance evaluation cell\n",
        "\n",
        "plt.plot(history.history['accuracy'], label='accuracy')\n",
        "plt.plot(history.history['val_accuracy'], label = 'val_accuracy')\n",
        "plt.xlabel('Epoch')\n",
        "plt.ylabel('Accuracy')\n",
        "plt.ylim([0.5, 1])\n",
        "plt.legend(loc='lower right')\n",
        "\n",
        "test_loss, test_acc = model.evaluate(imtest,  labtest, verbose=2)"
      ],
      "execution_count": 29,
      "outputs": [
        {
          "output_type": "stream",
          "text": [
            "313/313 - 1s - loss: 1.0175 - accuracy: 0.7100\n"
          ],
          "name": "stdout"
        },
        {
          "output_type": "display_data",
          "data": {
            "image/png": "[encoded data removed]",
            "text/plain": [
              "<Figure size 432x288 with 1 Axes>"
            ]
          },
          "metadata": {
            "tags": [],
            "needs_background": "light"
          }
        }
      ]
    }
  ]
}