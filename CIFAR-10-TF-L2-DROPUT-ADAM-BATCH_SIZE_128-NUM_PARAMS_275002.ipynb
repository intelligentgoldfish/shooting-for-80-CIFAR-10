{
  "nbformat": 4,
  "nbformat_minor": 0,
  "metadata": {
    "colab": {
      "name": "CIFAR-10 Tensorflow Network.ipynb",
      "provenance": [],
      "collapsed_sections": [],
      "machine_shape": "hm"
    },
    "kernelspec": {
      "name": "python3",
      "display_name": "Python 3"
    },
    "accelerator": "GPU"
  },
  "cells": [
    {
      "cell_type": "code",
      "metadata": {
        "id": "I7oN-Tohpez6",
        "colab_type": "code",
        "colab": {}
      },
      "source": [
        "#module import\n",
        "#modules have been given their own cell to avoid having to re-define network or\n",
        "#perform other operations after terminating runtime sessions\n",
        "\n",
        "\n",
        "#tensorflow 2.0 modules\n",
        "import tensorflow as tf\n",
        "from tensorflow import keras\n",
        "from tensorflow.keras import datasets, layers, models, regularizers\n",
        "\n",
        "#helper modules\n",
        "import numpy as np\n",
        "import matplotlib.pyplot as plt\n",
        "\n",
        "#dataset module\n",
        "import tensorflow_datasets as tfds\n",
        "tfds.disable_progress_bar()"
      ],
      "execution_count": 0,
      "outputs": []
    },
    {
      "cell_type": "code",
      "metadata": {
        "id": "Xpt-hWP31q1T",
        "colab_type": "code",
        "colab": {}
      },
      "source": [
        "#alternate tensorflow data loader and pipeline\n",
        "\n",
        "\n",
        "ds_train = tfds.load(name='cifar10', split='train')\n",
        "ds_test = tfds.load(name='cifar10', split='test')\n",
        "\n",
        "#extend dataset, shuffle, and split into batches\n",
        "ds_train = ds_train.repeat().shuffle(1024).batch(32)"
      ],
      "execution_count": 0,
      "outputs": []
    },
    {
      "cell_type": "code",
      "metadata": {
        "id": "N0GQdq_T1nGM",
        "colab_type": "code",
        "colab": {}
      },
      "source": [
        "#data augmentation and shuffling\n",
        "\n",
        "\n",
        "ds_train_flip = tf.image.flip_left_right(ds_train)\n",
        "ds_train = [ds_train, ds_train_flip]\n",
        "\n",
        "#extend dataset, shuffle, and split into batches\n",
        "ds_train = ds_train.repeat().shuffle(1024).batch(32)"
      ],
      "execution_count": 0,
      "outputs": []
    },
    {
      "cell_type": "code",
      "metadata": {
        "id": "bTdOXDHXxW9K",
        "colab_type": "code",
        "outputId": "7bf5892d-e763-4a2c-e161-a088a46d267a",
        "colab": {
          "base_uri": "https://localhost:8080/",
          "height": 68
        }
      },
      "source": [
        "#data loader and normalizer\n",
        "\n",
        "\n",
        "#cifar = tf.keras.datasets.cifar10\n",
        "\n",
        "(imtrain, labtrain), (imtest, labtest) = datasets.cifar10.load_data()\n",
        "#normalize pixel values\n",
        "imtrain, imtest = imtrain / 255.0, imtest / 255.0\n",
        "\n",
        "#imtrain_flip = tf.image.flip_left_right(imtrain)\n",
        "#imtrain = [imtrain, imtrain_flip]\n",
        "\n",
        "#labels do not inherently map to names, so we pre-define them to match a label vector\n",
        "class_names = ['airplane', 'automobile', 'bird', 'cat', 'deer',\n",
        "               'dog', 'frog', 'horse', 'ship', 'truck']\n",
        "\n",
        "#check to see if GPU is available\n",
        "print(tf.config.list_physical_devices('GPU'))"
      ],
      "execution_count": 3,
      "outputs": [
        {
          "output_type": "stream",
          "text": [
            "Downloading data from https://www.cs.toronto.edu/~kriz/cifar-10-python.tar.gz\n",
            "170500096/170498071 [==============================] - 2s 0us/step\n",
            "[PhysicalDevice(name='/physical_device:GPU:0', device_type='GPU')]\n"
          ],
          "name": "stdout"
        }
      ]
    },
    {
      "cell_type": "code",
      "metadata": {
        "id": "fhpmOwZbx5f9",
        "colab_type": "code",
        "outputId": "df5243a6-d0be-4b5f-8cd5-0c2f89340c7c",
        "colab": {
          "base_uri": "https://localhost:8080/",
          "height": 527
        }
      },
      "source": [
        "#network definition\n",
        "\n",
        "\n",
        "model = models.Sequential()\n",
        "model.add(layers.Conv2D(32, (3, 3), activation='relu', input_shape=(32, 32, 3)))\n",
        "model.add(layers.MaxPool2D((2, 2)))\n",
        "model.add(layers.Dropout(0.4))\n",
        "model.add(layers.Conv2D(50, (3, 3), activation='relu', kernel_regularizer=regularizers.l2(0.01)))\n",
        "model.add(layers.MaxPool2D((2, 2)))\n",
        "model.add(layers.Dropout(0.2))\n",
        "model.add(layers.Conv2D(50, (3, 3), activation='relu', kernel_regularizer=regularizers.l2(0.01)))\n",
        "model.add(layers.Flatten())\n",
        "model.add(layers.Dense(256, activation='relu'))\n",
        "model.add(layers.Dense(120, activation='relu'))\n",
        "model.add(layers.Dense(10))\n",
        "\n",
        "model.summary()"
      ],
      "execution_count": 4,
      "outputs": [
        {
          "output_type": "stream",
          "text": [
            "Model: \"sequential\"\n",
            "_________________________________________________________________\n",
            "Layer (type)                 Output Shape              Param #   \n",
            "=================================================================\n",
            "conv2d (Conv2D)              (None, 30, 30, 32)        896       \n",
            "_________________________________________________________________\n",
            "max_pooling2d (MaxPooling2D) (None, 15, 15, 32)        0         \n",
            "_________________________________________________________________\n",
            "dropout (Dropout)            (None, 15, 15, 32)        0         \n",
            "_________________________________________________________________\n",
            "conv2d_1 (Conv2D)            (None, 13, 13, 50)        14450     \n",
            "_________________________________________________________________\n",
            "max_pooling2d_1 (MaxPooling2 (None, 6, 6, 50)          0         \n",
            "_________________________________________________________________\n",
            "dropout_1 (Dropout)          (None, 6, 6, 50)          0         \n",
            "_________________________________________________________________\n",
            "conv2d_2 (Conv2D)            (None, 4, 4, 50)          22550     \n",
            "_________________________________________________________________\n",
            "flatten (Flatten)            (None, 800)               0         \n",
            "_________________________________________________________________\n",
            "dense (Dense)                (None, 256)               205056    \n",
            "_________________________________________________________________\n",
            "dense_1 (Dense)              (None, 120)               30840     \n",
            "_________________________________________________________________\n",
            "dense_2 (Dense)              (None, 10)                1210      \n",
            "=================================================================\n",
            "Total params: 275,002\n",
            "Trainable params: 275,002\n",
            "Non-trainable params: 0\n",
            "_________________________________________________________________\n"
          ],
          "name": "stdout"
        }
      ]
    },
    {
      "cell_type": "code",
      "metadata": {
        "id": "e7B_is3Ea2r-",
        "colab_type": "code",
        "outputId": "9df132ac-1189-4c74-dc8c-92f4d72e9841",
        "colab": {
          "base_uri": "https://localhost:8080/",
          "height": 1000
        }
      },
      "source": [
        "#compile and train model\n",
        "\n",
        "model.compile(optimizer='adam', loss=tf.keras.losses.SparseCategoricalCrossentropy(from_logits=True), metrics=['accuracy'])\n",
        "\n",
        "history = model.fit(imtrain, labtrain, epochs=30, batch_size=128, validation_data=(imtest, labtest))"
      ],
      "execution_count": 8,
      "outputs": [
        {
          "output_type": "stream",
          "text": [
            "Epoch 1/30\n",
            "391/391 [==============================] - 2s 6ms/step - loss: 0.8555 - accuracy: 0.7336 - val_loss: 0.9332 - val_accuracy: 0.7125\n",
            "Epoch 2/30\n",
            "391/391 [==============================] - 2s 6ms/step - loss: 0.8337 - accuracy: 0.7420 - val_loss: 0.9101 - val_accuracy: 0.7258\n",
            "Epoch 3/30\n",
            "391/391 [==============================] - 2s 6ms/step - loss: 0.8251 - accuracy: 0.7428 - val_loss: 0.8706 - val_accuracy: 0.7349\n",
            "Epoch 4/30\n",
            "391/391 [==============================] - 2s 6ms/step - loss: 0.8203 - accuracy: 0.7427 - val_loss: 0.8796 - val_accuracy: 0.7271\n",
            "Epoch 5/30\n",
            "391/391 [==============================] - 2s 6ms/step - loss: 0.8164 - accuracy: 0.7452 - val_loss: 0.9423 - val_accuracy: 0.7098\n",
            "Epoch 6/30\n",
            "391/391 [==============================] - 2s 6ms/step - loss: 0.8222 - accuracy: 0.7434 - val_loss: 0.9088 - val_accuracy: 0.7162\n",
            "Epoch 7/30\n",
            "391/391 [==============================] - 2s 6ms/step - loss: 0.8132 - accuracy: 0.7461 - val_loss: 0.9230 - val_accuracy: 0.7138\n",
            "Epoch 8/30\n",
            "391/391 [==============================] - 2s 6ms/step - loss: 0.8094 - accuracy: 0.7468 - val_loss: 0.8617 - val_accuracy: 0.7316\n",
            "Epoch 9/30\n",
            "391/391 [==============================] - 2s 6ms/step - loss: 0.8038 - accuracy: 0.7489 - val_loss: 0.8949 - val_accuracy: 0.7223\n",
            "Epoch 10/30\n",
            "391/391 [==============================] - 2s 6ms/step - loss: 0.8130 - accuracy: 0.7474 - val_loss: 0.9002 - val_accuracy: 0.7265\n",
            "Epoch 11/30\n",
            "391/391 [==============================] - 2s 6ms/step - loss: 0.8087 - accuracy: 0.7488 - val_loss: 0.8787 - val_accuracy: 0.7320\n",
            "Epoch 12/30\n",
            "391/391 [==============================] - 2s 6ms/step - loss: 0.8031 - accuracy: 0.7507 - val_loss: 0.8791 - val_accuracy: 0.7316\n",
            "Epoch 13/30\n",
            "391/391 [==============================] - 2s 6ms/step - loss: 0.8038 - accuracy: 0.7504 - val_loss: 0.9256 - val_accuracy: 0.7134\n",
            "Epoch 14/30\n",
            "391/391 [==============================] - 2s 6ms/step - loss: 0.7984 - accuracy: 0.7517 - val_loss: 0.9334 - val_accuracy: 0.7089\n",
            "Epoch 15/30\n",
            "391/391 [==============================] - 2s 6ms/step - loss: 0.7964 - accuracy: 0.7534 - val_loss: 0.9118 - val_accuracy: 0.7178\n",
            "Epoch 16/30\n",
            "391/391 [==============================] - 2s 6ms/step - loss: 0.7893 - accuracy: 0.7553 - val_loss: 0.8651 - val_accuracy: 0.7342\n",
            "Epoch 17/30\n",
            "391/391 [==============================] - 2s 6ms/step - loss: 0.7959 - accuracy: 0.7537 - val_loss: 0.8996 - val_accuracy: 0.7346\n",
            "Epoch 18/30\n",
            "391/391 [==============================] - 2s 6ms/step - loss: 0.7928 - accuracy: 0.7540 - val_loss: 0.8698 - val_accuracy: 0.7307\n",
            "Epoch 19/30\n",
            "391/391 [==============================] - 2s 6ms/step - loss: 0.7869 - accuracy: 0.7554 - val_loss: 0.8661 - val_accuracy: 0.7298\n",
            "Epoch 20/30\n",
            "391/391 [==============================] - 2s 6ms/step - loss: 0.7865 - accuracy: 0.7555 - val_loss: 0.8772 - val_accuracy: 0.7311\n",
            "Epoch 21/30\n",
            "391/391 [==============================] - 2s 6ms/step - loss: 0.7960 - accuracy: 0.7524 - val_loss: 0.8921 - val_accuracy: 0.7248\n",
            "Epoch 22/30\n",
            "391/391 [==============================] - 2s 6ms/step - loss: 0.7817 - accuracy: 0.7569 - val_loss: 0.8870 - val_accuracy: 0.7286\n",
            "Epoch 23/30\n",
            "391/391 [==============================] - 2s 6ms/step - loss: 0.7814 - accuracy: 0.7567 - val_loss: 0.8918 - val_accuracy: 0.7272\n",
            "Epoch 24/30\n",
            "391/391 [==============================] - 2s 6ms/step - loss: 0.7779 - accuracy: 0.7583 - val_loss: 0.8671 - val_accuracy: 0.7362\n",
            "Epoch 25/30\n",
            "391/391 [==============================] - 2s 6ms/step - loss: 0.7784 - accuracy: 0.7587 - val_loss: 0.8566 - val_accuracy: 0.7413\n",
            "Epoch 26/30\n",
            "391/391 [==============================] - 2s 6ms/step - loss: 0.7842 - accuracy: 0.7573 - val_loss: 0.8647 - val_accuracy: 0.7376\n",
            "Epoch 27/30\n",
            "391/391 [==============================] - 2s 6ms/step - loss: 0.7781 - accuracy: 0.7603 - val_loss: 0.9005 - val_accuracy: 0.7281\n",
            "Epoch 28/30\n",
            "391/391 [==============================] - 2s 6ms/step - loss: 0.7753 - accuracy: 0.7602 - val_loss: 0.9027 - val_accuracy: 0.7274\n",
            "Epoch 29/30\n",
            "391/391 [==============================] - 2s 6ms/step - loss: 0.7719 - accuracy: 0.7609 - val_loss: 0.8601 - val_accuracy: 0.7354\n",
            "Epoch 30/30\n",
            "391/391 [==============================] - 2s 6ms/step - loss: 0.7678 - accuracy: 0.7631 - val_loss: 0.8876 - val_accuracy: 0.7272\n"
          ],
          "name": "stdout"
        }
      ]
    },
    {
      "cell_type": "code",
      "metadata": {
        "id": "Gl3usQKRcKvp",
        "colab_type": "code",
        "outputId": "38604ec4-7a70-4e7b-9568-aa0930fcc8d5",
        "colab": {
          "base_uri": "https://localhost:8080/",
          "height": 300
        }
      },
      "source": [
        "#performance evaluation cell\n",
        "\n",
        "plt.plot(history.history['accuracy'], label='accuracy')\n",
        "plt.plot(history.history['val_accuracy'], label = 'val_accuracy')\n",
        "plt.xlabel('Epoch')\n",
        "plt.ylabel('Accuracy')\n",
        "plt.ylim([0.5, 1])\n",
        "plt.legend(loc='lower right')\n",
        "\n",
        "test_loss, test_acc = model.evaluate(imtest,  labtest, verbose=2)"
      ],
      "execution_count": 9,
      "outputs": [
        {
          "output_type": "stream",
          "text": [
            "313/313 - 1s - loss: 0.8886 - accuracy: 0.7272\n"
          ],
          "name": "stdout"
        },
        {
          "output_type": "display_data",
          "data": {
            "image/png": "[encoded data removed]",
            "text/plain": [
              "<Figure size 432x288 with 1 Axes>"
            ]
          },
          "metadata": {
            "tags": [],
            "needs_background": "light"
          }
        }
      ]
    }
  ]
}